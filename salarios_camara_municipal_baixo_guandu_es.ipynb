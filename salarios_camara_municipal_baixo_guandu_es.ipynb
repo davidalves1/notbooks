{
 "cells": [
  {
   "cell_type": "code",
   "execution_count": 2,
   "metadata": {},
   "outputs": [
    {
     "name": "stdout",
     "output_type": "stream",
     "text": [
      "Nome: ADRIANA SILVA SANTANA DE PAULA\n",
      "Cargo: CONTROLADOR GERAL\n",
      "Salário: R$ 4.598,03\n",
      "\n",
      "Nome: AGUINALDO DA PENHA\n",
      "Cargo: VEREADOR\n",
      "Salário: R$ 4.800,00\n",
      "\n",
      "Nome: ALBERTO DE OLIVEIRA JUNIOR\n",
      "Cargo: ASSESSOR PARLAMENTAR\n",
      "Salário: R$ 937,00\n",
      "\n",
      "Nome: ALBMAR REIS DE MEDEIROS\n",
      "Cargo: ASSESSOR PARLAMENTAR\n",
      "Salário: R$ 937,00\n",
      "\n",
      "Nome: ALDENY ALVES DE BRITTO\n",
      "Cargo: ASSESSOR DA PRESIDENCIA\n",
      "Salário: R$ 1.694,01\n",
      "\n",
      "Nome: ALESSANDRA MARCIA SILVERIO AGOSTINHO\n",
      "Cargo: ASSESSOR PARLAMENTAR\n",
      "Salário: R$ 937,00\n",
      "\n",
      "Nome: ALESSANDRA MARIANO DE OLIVEIRA GONCALVES\n",
      "Cargo: ASSESSOR ESPECIAL II\n",
      "Salário: R$ 937,00\n",
      "\n",
      "Total de salários: R$ 14840.04\n"
     ]
    }
   ],
   "source": [
    "import re\n",
    "import requests\n",
    "from bs4 import BeautifulSoup as bs\n",
    "\n",
    "SERVIDORES = 'https://cmbaixoguandu-es.portaltp.com.br/consultas/pessoal/servidores.aspx'\n",
    "BASE = 'https://cmbaixoguandu-es.portaltp.com.br'\n",
    "total = 0\n",
    "\n",
    "def get_data(url):\n",
    "    page = requests.get(url)\n",
    "    return bs(page.content, 'html.parser')\n",
    "\n",
    "def get_links():\n",
    "    soup = get_data(SERVIDORES)\n",
    "\n",
    "    urls = soup.find_all('a', {'class': 'text-center'})\n",
    "\n",
    "    links = []\n",
    "    \n",
    "    for url in urls:\n",
    "        links.append(BASE + url.get('href'))\n",
    "        \n",
    "    return links\n",
    "\n",
    "def get_servidores(links):\n",
    "    total = 0\n",
    "    \n",
    "    for link in links:\n",
    "        soup = get_data(link)\n",
    "        \n",
    "        try:\n",
    "            nome = soup.find('input', {'id': 'ctl00_containerCorpo_edtServNome_I'}).get('value')\n",
    "            cargo = soup.find('input', {'id': 'ctl00_containerCorpo_edtServCargo_I'}).get('value')\n",
    "            salario = soup.find('input', {'id': 'ctl00_containerCorpo_edtServPadraoValor_I'}).get('value')\n",
    "            salario_total = float(re.sub(r'\\D', '', salario))\n",
    "            total += salario_total / 100\n",
    "            \n",
    "            print('Nome: %s\\nCargo: %s\\nSalário: %s\\n' % (nome, cargo, salario))\n",
    "        except e:\n",
    "            print(e)\n",
    "            pass\n",
    "    return total\n",
    "    \n",
    "links = get_links()\n",
    "total = get_servidores(links)\n",
    "\n",
    "print('Total de salários: R$ %.2f' % total)"
   ]
  }
 ],
 "metadata": {
  "kernelspec": {
   "display_name": "Python 3",
   "language": "python",
   "name": "python3"
  },
  "language_info": {
   "codemirror_mode": {
    "name": "ipython",
    "version": 3
   },
   "file_extension": ".py",
   "mimetype": "text/x-python",
   "name": "python",
   "nbconvert_exporter": "python",
   "pygments_lexer": "ipython3",
   "version": "3.6.1"
  }
 },
 "nbformat": 4,
 "nbformat_minor": 2
}
