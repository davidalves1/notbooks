{
 "cells": [
  {
   "cell_type": "code",
   "execution_count": 42,
   "metadata": {},
   "outputs": [],
   "source": [
    "import re\n",
    "import requests\n",
    "from bs4 import BeautifulSoup as bs\n",
    "\n",
    "SERVIDORES = 'https://cmbaixoguandu-es.portaltp.com.br/consultas/pessoal/servidores.aspx'\n",
    "BASE = 'https://cmbaixoguandu-es.portaltp.com.br'\n",
    "TOTAL = 0\n",
    "\n",
    "def get_data(url):\n",
    "    page = requests.get(url)\n",
    "    return bs(page.content, 'html.parser')\n",
    "\n",
    "def get_links():\n",
    "    soup = get_data(SERVIDORES)\n",
    "\n",
    "    urls = soup.find_all('a', {'class': 'text-center'})\n",
    "\n",
    "    links = []\n",
    "    \n",
    "    for url in urls:\n",
    "        links.append(BASE + url.get('href'))\n",
    "        \n",
    "    return links\n",
    "\n",
    "def get_servidores(links):\n",
    "    total = 0\n",
    "    \n",
    "    for link in links:\n",
    "        soup = get_data(link)\n",
    "        \n",
    "        try:\n",
    "            nome = soup.find('input', {'id': 'ctl00_containerCorpo_edtServNome_I'}).get('value')\n",
    "            cargo = soup.find('input', {'id': 'ctl00_containerCorpo_edtServCargo_I'}).get('value')\n",
    "            salario = soup.find('input', {'id': 'ctl00_containerCorpo_edtServPadraoValor_I'}).get('value')\n",
    "            salario_total = float(re.sub(r'\\D', '', salario))\n",
    "            total += salario_total / 100\n",
    "            \n",
    "            print('Nome: %s\\nCargo: %s\\nSalário: %s\\n' % (nome, cargo, salario))\n",
    "        except e:\n",
    "            print(e)\n",
    "            pass\n",
    "    return total\n",
    "    \n",
    "links = get_links()\n",
    "TOTAL = get_servidores(links)\n",
    "\n",
    "print('Total de salários: R$ %.2f' % TOTAL)"
   ]
  }
 ],
 "metadata": {
  "kernelspec": {
   "display_name": "Python 3",
   "language": "python",
   "name": "python3"
  },
  "language_info": {
   "codemirror_mode": {
    "name": "ipython",
    "version": 3
   },
   "file_extension": ".py",
   "mimetype": "text/x-python",
   "name": "python",
   "nbconvert_exporter": "python",
   "pygments_lexer": "ipython3",
   "version": "3.5.2"
  }
 },
 "nbformat": 4,
 "nbformat_minor": 2
}
